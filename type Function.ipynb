{
 "cells": [
  {
   "cell_type": "code",
   "execution_count": 7,
   "id": "b2bffcd6",
   "metadata": {},
   "outputs": [
    {
     "name": "stdout",
     "output_type": "stream",
     "text": [
      "num: <class 'int'> str: <class 'str'> bool: <class 'bool'>\n",
      "The value of num is {num} and its type is <class 'int'>\n",
      "The value of str is {str} and its type is <class 'str'>\n",
      "The value of bool is {bool} and its type is <class 'bool'>\n"
     ]
    }
   ],
   "source": [
    "num =int(10)\n",
    "str = \"Hello\"\n",
    "bool=True\n",
    "print(\"num:\", type(num), \"str:\", type(str), \"bool:\",type(bool))\n",
    "\n",
    "\n",
    "# for i in [num, str, bool]:\n",
    "#     print(\"The value of\", i, \"is\", i, \"and its type is\", type(i))\n",
    "\n",
    "print(\"The value of num is {num} and its type is\", type(num))\n",
    "print(\"The value of str is {str} and its type is\", type(str))\n",
    "print(\"The value of bool is {bool} and its type is\", type(bool))"
   ]
  }
 ],
 "metadata": {
  "kernelspec": {
   "display_name": "base",
   "language": "python",
   "name": "python3"
  },
  "language_info": {
   "codemirror_mode": {
    "name": "ipython",
    "version": 3
   },
   "file_extension": ".py",
   "mimetype": "text/x-python",
   "name": "python",
   "nbconvert_exporter": "python",
   "pygments_lexer": "ipython3",
   "version": "3.11.5"
  }
 },
 "nbformat": 4,
 "nbformat_minor": 5
}
