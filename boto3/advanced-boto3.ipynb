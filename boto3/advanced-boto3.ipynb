{
 "cells": [
  {
   "cell_type": "markdown",
   "id": "0b20b03e",
   "metadata": {},
   "source": [
    "advanced-boto3"
   ]
  },
  {
   "cell_type": "code",
   "execution_count": 2,
   "id": "039973ea",
   "metadata": {},
   "outputs": [],
   "source": [
    "import boto3\n",
    "#import pandas as pd\n",
    "import os\n",
    "import zipfile"
   ]
  },
  {
   "cell_type": "code",
   "execution_count": 3,
   "id": "8203930b",
   "metadata": {},
   "outputs": [],
   "source": [
    "#start a session\n",
    "session = boto3.Session(profile_name='default',region_name='us-west-2')\n",
    "ec2_client = session.client('ec2')"
   ]
  },
  {
   "cell_type": "code",
   "execution_count": 4,
   "id": "f745645d",
   "metadata": {},
   "outputs": [],
   "source": [
    "# Define a Launch Template\n",
    "def create_launch_template():\n",
    "    securityGroupIds=['sg-044f4a8ac6a19c5bf'],  # Replace with your security group ID\n",
    "    keyname='vockey'  # Replace with your key pair name\n",
    "    ec2_client.create_launch_template(\n",
    "        LaunchTemplateName='MyLaunchTemplate',\n",
    "        VersionDescription='v1',\n",
    "        LaunchTemplateData={\n",
    "            'InstanceType': 't2.micro',\n",
    "            'ImageId': 'ami-0c55b159cbfafe1f0',  # Amazon Linux 2 AMI\n",
    "            'KeyName': keyname, \n",
    "            'SecurityGroupIds': securityGroupIds,  \n",
    "            'UserData': '''#!/bin/bash\n",
    "                            yum update -y\n",
    "                            yum install -y httpd\n",
    "                            systemctl start httpd\n",
    "                            systemctl enable httpd'''\n",
    "        }\n",
    "    )"
   ]
  },
  {
   "cell_type": "code",
   "execution_count": null,
   "id": "173b09b0",
   "metadata": {},
   "outputs": [],
   "source": [
    "#Request a Spot Fleet\n",
    "def request_spot_fleet():\n",
    "    response = ec2_client.request_spot_fleet(\n",
    "        SpotFleetRequestConfig={\n",
    "            'TargetCapacity': 1,\n",
    "            'LaunchTemplateConfigs': [\n",
    "                {\n",
    "                    'LaunchTemplateSpecification': {\n",
    "                        'LaunchTemplateName': 'MyLaunchTemplate',\n",
    "                        'Version': '$Latest'\n",
    "                    },\n",
    "                    'Overrides': [\n",
    "                        {\n",
    "                            'InstanceType': 't2.micro',\n",
    "                            'SubnetId': 'subnet-0bb1c79de3EXAMPLE'  # Replace with your subnet ID\n",
    "                        }\n",
    "                    ]\n",
    "                }\n",
    "            ],\n",
    "            'IamFleetRole': 'arn:aws:iam::123456789012:role/aws-ec2-spot-fleet-role',  # Replace with your IAM role ARN\n",
    "            'SpotPrice': '0.01',  # Set your maximum price per hour\n",
    "            'Type': 'request'\n",
    "        }\n",
    "    )\n",
    "    print(\"Spot Fleet Request ID:\", response['SpotFleetRequestId'])"
   ]
  }
 ],
 "metadata": {
  "kernelspec": {
   "display_name": "Python 3",
   "language": "python",
   "name": "python3"
  },
  "language_info": {
   "codemirror_mode": {
    "name": "ipython",
    "version": 3
   },
   "file_extension": ".py",
   "mimetype": "text/x-python",
   "name": "python",
   "nbconvert_exporter": "python",
   "pygments_lexer": "ipython3",
   "version": "3.13.3"
  }
 },
 "nbformat": 4,
 "nbformat_minor": 5
}
