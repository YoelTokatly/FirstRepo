{
 "cells": [
  {
   "cell_type": "code",
   "execution_count": null,
   "id": "a271d61b",
   "metadata": {},
   "outputs": [],
   "source": [
    "Daily Reports Automation"
   ]
  },
  {
   "cell_type": "code",
   "execution_count": 37,
   "id": "9911fea9",
   "metadata": {},
   "outputs": [],
   "source": [
    "import boto3\n",
    "#import pandas as pd\n",
    "import os\n",
    "import zipfile"
   ]
  },
  {
   "cell_type": "code",
   "execution_count": 2,
   "id": "746a40e8",
   "metadata": {},
   "outputs": [],
   "source": [
    "#start a session\n",
    "session = boto3.Session(profile_name='default',region_name='us-west-2')"
   ]
  },
  {
   "cell_type": "code",
   "execution_count": 6,
   "id": "dc4bedc4",
   "metadata": {},
   "outputs": [],
   "source": [
    "s3_client = session.client('s3')"
   ]
  },
  {
   "cell_type": "code",
   "execution_count": 35,
   "id": "bfc06b10",
   "metadata": {},
   "outputs": [
    {
     "name": "stdout",
     "output_type": "stream",
     "text": [
      "Bucket daily-reports-05-06-2025 exists.\n"
     ]
    }
   ],
   "source": [
    "#Check if the bucket exists\n",
    "\n",
    "def bucket_exists(bucket_name):\n",
    "    # s3_client = boto3.client('s3')\n",
    "\n",
    "    response = s3_client.list_buckets()\n",
    "    buckets = [bucket['Name'] for bucket in response.get('Buckets', [])]\n",
    "    # print (f'List of buckets: {buckets}')\n",
    "    return bucket_name in buckets\n",
    "\n",
    "bucket_name = 'daily-reports-05-06-2025'\n",
    "bucket_exists (bucket_name)\n",
    "\n",
    "if bucket_exists(bucket_name):\n",
    "    print(f'Bucket {bucket_name} exists.')\n",
    "else:\n",
    "    s3_client.create_bucket(\n",
    "    Bucket=bucket_name,\n",
    "    CreateBucketConfiguration={\n",
    "        'LocationConstraint': session.region_name\n",
    "    }    \n",
    "    )\n",
    "    print(f'Bucket {bucket_name} created in {session.region_name} region')"
   ]
  },
  {
   "cell_type": "code",
   "execution_count": null,
   "id": "2f1fe65f",
   "metadata": {},
   "outputs": [
    {
     "name": "stdout",
     "output_type": "stream",
     "text": [
      "Folder 'daily-reports-05-06-2025/' already exists in bucket 'daily-reports-05-06-2025'\n",
      "Folders in bucket daily-reports-05-06-2025: []\n",
      "Files in bucket daily-reports-05-06-2025: []\n",
      "Files in bucket daily-reports-05-06-2025: []\n",
      "{'ResponseMetadata': {'RequestId': 'RXDWTF8SFRPTYKP8', 'HostId': '/B/oE07idMahehTLx5MB8PDvf9D4LUP5t/tT+fShm02fe9GLJzNJMX+tmFKQVgCnluO6nBx6+lU=', 'HTTPStatusCode': 200, 'HTTPHeaders': {'x-amz-id-2': '/B/oE07idMahehTLx5MB8PDvf9D4LUP5t/tT+fShm02fe9GLJzNJMX+tmFKQVgCnluO6nBx6+lU=', 'x-amz-request-id': 'RXDWTF8SFRPTYKP8', 'date': 'Tue, 06 May 2025 07:42:47 GMT', 'x-amz-bucket-region': 'us-west-2', 'content-type': 'application/xml', 'transfer-encoding': 'chunked', 'server': 'AmazonS3'}, 'RetryAttempts': 0}, 'IsTruncated': False, 'Contents': [{'Key': 'daily-reports-05-06-2025/', 'LastModified': datetime.datetime(2025, 5, 6, 6, 48, 47, tzinfo=tzutc()), 'ETag': '\"d41d8cd98f00b204e9800998ecf8427e\"', 'ChecksumAlgorithm': ['CRC32'], 'ChecksumType': 'FULL_OBJECT', 'Size': 0, 'StorageClass': 'STANDARD'}], 'Name': 'daily-reports-05-06-2025', 'Prefix': 'daily-reports-05-06-2025/', 'MaxKeys': 1000, 'EncodingType': 'url', 'KeyCount': 1}\n"
     ]
    }
   ],
   "source": [
    "# check if folder exists\n",
    "folder_name = 'daily-reports-05-06-2025/'\n",
    "folders_in_bucket = []\n",
    "files_in_bucket = []\n",
    "objects_in_bucket =  []\n",
    "\n",
    "response = s3_client.list_objects_v2( Bucket=bucket_name , Prefix=folder_name)\n",
    "\n",
    "if 'Contents' in response:\n",
    "    print(f\"Folder '{folder_name}' already exists in bucket '{bucket_name}'\")\n",
    "# Create 'folder' (empty object with the folder name as key)\n",
    "else:\n",
    "    s3_client.put_object(\n",
    "                Bucket=bucket_name,\n",
    "                Key=folder_name,\n",
    "                Body=''\n",
    "            )\n",
    "    print(f\"Created folder '{folder_name}' in bucket '{bucket_name}'\")\n",
    "           "
   ]
  },
  {
   "cell_type": "code",
   "execution_count": null,
   "id": "f2e2cfc2",
   "metadata": {},
   "outputs": [
    {
     "name": "stdout",
     "output_type": "stream",
     "text": [
      "Files in local path ./test_folder/: ['./test_folder/text1.txt', './test_folder/text2.txt', './test_folder/text3.txt']\n"
     ]
    }
   ],
   "source": [
    "def create_zip_file(output_filename):\n",
    "    # getting the list of files to zip\n",
    "    files_to_zip = []\n",
    "    for _, _, files in os.walk(local_path):\n",
    "        for file in files:\n",
    "            files_to_zip.append(local_path+file)\n",
    "    # Create a zip file and add files to it\n",
    "    with zipfile.ZipFile(output_filename, 'w', zipfile.ZIP_DEFLATED) as zipf:\n",
    "        for file in files_to_zip:\n",
    "            if os.path.isfile(file):\n",
    "                zipf.write(file, os.path.basename(file))\n",
    "            else:\n",
    "                print(f\"Warning: {file} not found or not a file\")\n",
    "    print (f'Files in local path {local_path}: {files_to_zip}')\n",
    "\n",
    "\n",
    "local_path = './test_folder/'\n",
    "zip_file = './dayly_zip/archive.zip'\n",
    "\n",
    "create_zip_file(zip_file)\n",
    "# print (files_to_zip)\n"
   ]
  },
  {
   "cell_type": "code",
   "execution_count": 52,
   "id": "6fc0fd11",
   "metadata": {},
   "outputs": [
    {
     "name": "stdout",
     "output_type": "stream",
     "text": [
      "Uploaded ./dayly_zip/archive.zip to s3://daily-reports-05-06-2025/daily-reports-05-06-2025/archive.zip\n"
     ]
    }
   ],
   "source": [
    "def upload_zip_to_s3(zip_file, bucket_name, folder_name):\n",
    "    # Upload the zip file to S3\n",
    "    s3_client.upload_file(zip_file, bucket_name, folder_name + os.path.basename(zip_file))\n",
    "    print(f\"Uploaded {zip_file} to s3://{bucket_name}/{folder_name}{os.path.basename(zip_file)}\")\n",
    "upload_zip_to_s3(zip_file, bucket_name, folder_name)"
   ]
  },
  {
   "cell_type": "code",
   "execution_count": null,
   "id": "7bf9d72d",
   "metadata": {},
   "outputs": [],
   "source": [
    "# Upload the zip file to S3\n",
    "\n",
    "if 'Contents' in response:\n",
    "        for bucket in response['Contents']:\n",
    "            objects_in_bucket.append(bucket['Key'])\n",
    "\n",
    "            \n",
    "\n",
    "def upload_files_to_bucket(bucket_name, local_directory):\n",
    "    # files in bucket\n",
    "    response = s3_client.list_objects_v2( Bucket=bucket_name )\n",
    "    files_in_bucket = []\n",
    "    if 'Contents' in response:\n",
    "        for bucket in response['Contents']:\n",
    "            files_in_bucket.append(bucket['Key'])\n",
    "    \n",
    "    # files in local directory\n",
    "    file_in_local = []\n",
    "    for _, _, files in os.walk('./daily_documents'):\n",
    "        for file in files:\n",
    "            file_in_local.append(file)\n",
    "    # check if the files in local directory are already in the bucket\n",
    "    print ('Starting upload of daily documents')\n",
    "    counter = 0\n",
    "    for file in file_in_local:\n",
    "        if file in files_in_bucket:\n",
    "            # file_in_local.remove(file)\n",
    "            print (f'File {file} already exists in the bucket')\n",
    "            \n",
    "        else:\n",
    "            s3_client.upload_file(local_file_name, bucket_name, s3_file_name)\n",
    "            print (f'File {local_file_name} uploaded to bucket {bucket_name} with name {s3_file_name}')\n",
    "            counter += 1\n",
    "            \n",
    "\n",
    "    print ('Upload of daily documents completed')\n",
    "    print (f'Total number of files uploaded: {counter}')\n",
    "\n",
    "\n",
    "local_directory= 'daily_documents'\n",
    "upload_files_to_bucket(bucket_name, local_directory)"
   ]
  }
 ],
 "metadata": {
  "kernelspec": {
   "display_name": "Python 3",
   "language": "python",
   "name": "python3"
  },
  "language_info": {
   "codemirror_mode": {
    "name": "ipython",
    "version": 3
   },
   "file_extension": ".py",
   "mimetype": "text/x-python",
   "name": "python",
   "nbconvert_exporter": "python",
   "pygments_lexer": "ipython3",
   "version": "3.13.3"
  }
 },
 "nbformat": 4,
 "nbformat_minor": 5
}
