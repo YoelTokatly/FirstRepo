{
 "cells": [
  {
   "cell_type": "code",
   "execution_count": 21,
   "id": "fa0c5e4a",
   "metadata": {},
   "outputs": [],
   "source": [
    "import boto3\n",
    "import pandas as pd\n",
    "import os"
   ]
  },
  {
   "cell_type": "markdown",
   "id": "608fc9e2",
   "metadata": {},
   "source": [
    "Exercise 1: Automate One File Upload"
   ]
  },
  {
   "cell_type": "code",
   "execution_count": 2,
   "id": "30365e0a",
   "metadata": {},
   "outputs": [],
   "source": [
    "## task 1 - connect to s3 using boto3\n",
    "\n",
    "#tell boto3 to use the default profile\n",
    "session = boto3.Session(profile_name='default',region_name='us-west-2')\n",
    "#tell boto3 to use the default region\n",
    "ec2 = session.resource('ec2')\n"
   ]
  },
  {
   "cell_type": "code",
   "execution_count": null,
   "id": "d14882c8",
   "metadata": {},
   "outputs": [],
   "source": [
    "## task 2 - create a bucket\n",
    "\n",
    "yourname= input('Please enter the your name: ')\n",
    "# Create an S3 client\n",
    "s3_client = session.client('s3')\n",
    "bucket_name = f'student-{yourname}-bucket'\n",
    "s3_client.create_bucket(\n",
    "    Bucket=bucket_name,\n",
    "    CreateBucketConfiguration={\n",
    "        'LocationConstraint': session.region_name\n",
    "    }\n",
    ")\n",
    "print(f'Bucket {bucket_name} created in {session.region_name} region')"
   ]
  },
  {
   "cell_type": "code",
   "execution_count": null,
   "id": "a43928e9",
   "metadata": {},
   "outputs": [],
   "source": [
    "##Task 3. upload a file to the bucket\n",
    "\n",
    "local_file_name= './team_image2.png'\n",
    "s3_file_name = 'team_image2.png'\n",
    "s3_client.upload_file(local_file_name, bucket_name, s3_file_name)\n",
    "# s3_client.upload_file(local_file_name, bucket_name, s3_file_name)\n",
    "print(f'File {local_file_name} uploaded to bucket {bucket_name} with name {s3_file_name}')"
   ]
  },
  {
   "cell_type": "code",
   "execution_count": null,
   "id": "4c3d711b",
   "metadata": {},
   "outputs": [],
   "source": [
    "#task 4. list the files in the bucket\n",
    "response = s3_client.list_objects_v2( Bucket=bucket_name )\n",
    "#list all buckets\n",
    "print('List of buckets:')\n",
    "if 'Contents' in response:\n",
    "    for bucket in response['Contents']:\n",
    "        print(bucket['Key'])\n",
    "print (f'Total number of files in the bucket: {len(response[\"Contents\"])}')\n"
   ]
  },
  {
   "cell_type": "markdown",
   "id": "757f0533",
   "metadata": {},
   "source": [
    "Exercise 2: Upload Multiple Files Automatically"
   ]
  },
  {
   "cell_type": "code",
   "execution_count": null,
   "id": "a24bd240",
   "metadata": {},
   "outputs": [],
   "source": [
    "#task 1. check if bucket exists\n",
    "yourname= input('Please enter the your name: ')\n",
    "\n",
    "# Create an S3 client\n",
    "s3_client = session.client('s3')\n",
    "\n",
    "# Check if the bucket exists\n",
    "bucket_name = f'student-{yourname}-bucket'\n",
    "\n",
    "def bucket_exists(bucket_name):\n",
    "    # s3_client = boto3.client('s3')\n",
    "    response = s3_client.list_buckets()\n",
    "    buckets = [bucket['Name'] for bucket in response.get('Buckets', [])]\n",
    "    # print (f'List of buckets: {buckets}')\n",
    "    return bucket_name in buckets\n",
    "bucket_exists (bucket_name)\n",
    "\n",
    "if bucket_exists(bucket_name):\n",
    "    print(f'Bucket {bucket_name} exists.')\n",
    "else:\n",
    "    s3_client.create_bucket(\n",
    "    Bucket=bucket_name,\n",
    "    CreateBucketConfiguration={\n",
    "        'LocationConstraint': session.region_name\n",
    "    }    \n",
    "    )\n",
    "    print(f'Bucket {bucket_name} created in {session.region_name} region')\n",
    "\n",
    "\n"
   ]
  },
  {
   "cell_type": "code",
   "execution_count": 31,
   "id": "3f202363",
   "metadata": {},
   "outputs": [],
   "source": [
    "local_file_name= 'text_local_2.txt'\n",
    "s3_file_name = 'text.txt'\n",
    "s3_client.download_file(bucket_name, s3_file_name, local_file_name)"
   ]
  },
  {
   "cell_type": "code",
   "execution_count": null,
   "id": "c795cf51",
   "metadata": {},
   "outputs": [],
   "source": [
    "##task 2. upload files from a directory to the bucket\n",
    "\n",
    "\n",
    "def upload_files_to_bucket(bucket_name, local_directory):\n",
    "   \n",
    "   \n",
    "    # if the directory dosent have folders:\n",
    "    # file_2_upload = os.listdir(f'./{local_directory}')\n",
    "    # if the directory has folders:\n",
    "    file_list = []\n",
    "    print ('Starting upload of daily documents')\n",
    "    for _, _, files in os.walk('./daily_documents'):\n",
    "        for file in files:\n",
    "            file_list.append(file)\n",
    "\n",
    "    for file in file_list:\n",
    "        local_file_name= f'./{local_directory}/{file}'\n",
    "        s3_file_name = f'{file}'\n",
    "        s3_client.upload_file(local_file_name, bucket_name, s3_file_name)\n",
    "        print (f'File {local_file_name} uploaded to bucket {bucket_name} with name {s3_file_name}')\n",
    "    print ('Upload of daily documents completed')\n",
    "    print (f'Total number of files uploaded: {len(file_list)}')\n",
    "        \n",
    "\n",
    "# s3_client.upload_file(local_file_name, bucket_name, s3_file_name)\n",
    "# print(f'File {local_file_name} uploaded to bucket {bucket_name} with name {s3_file_name}')\n",
    "\n",
    "local_directory= 'daily_documents'\n",
    "upload_files_to_bucket(bucket_name, local_directory)"
   ]
  },
  {
   "cell_type": "markdown",
   "id": "089376df",
   "metadata": {},
   "source": [
    "Exercise 3 (Advanced): Auto-Skip Already Uploaded Files"
   ]
  },
  {
   "cell_type": "code",
   "execution_count": null,
   "id": "c0c08eb1",
   "metadata": {},
   "outputs": [],
   "source": [
    "\n",
    "def upload_files_to_bucket(bucket_name, local_directory):\n",
    "    # files in bucket\n",
    "    response = s3_client.list_objects_v2( Bucket=bucket_name )\n",
    "    files_in_bucket = []\n",
    "    if 'Contents' in response:\n",
    "        for bucket in response['Contents']:\n",
    "            files_in_bucket.append(bucket['Key'])\n",
    "    \n",
    "    # files in local directory\n",
    "    file_in_local = []\n",
    "    for _, _, files in os.walk('./daily_documents'):\n",
    "        for file in files:\n",
    "            file_in_local.append(file)\n",
    "    # check if the files in local directory are already in the bucket\n",
    "    print ('Starting upload of daily documents')\n",
    "    counter = 0\n",
    "    for file in file_in_local:\n",
    "        if file in files_in_bucket:\n",
    "            # file_in_local.remove(file)\n",
    "            print (f'File {file} already exists in the bucket')\n",
    "            \n",
    "        else:\n",
    "            s3_client.upload_file(local_file_name, bucket_name, s3_file_name)\n",
    "            print (f'File {local_file_name} uploaded to bucket {bucket_name} with name {s3_file_name}')\n",
    "            counter += 1\n",
    "            \n",
    "\n",
    "    print ('Upload of daily documents completed')\n",
    "    print (f'Total number of files uploaded: {counter}')\n",
    "\n",
    "\n",
    "local_directory= 'daily_documents'\n",
    "upload_files_to_bucket(bucket_name, local_directory)\n",
    "    \n"
   ]
  },
  {
   "cell_type": "code",
   "execution_count": null,
   "id": "29bb513a",
   "metadata": {},
   "outputs": [],
   "source": []
  }
 ],
 "metadata": {
  "kernelspec": {
   "display_name": "Python 3",
   "language": "python",
   "name": "python3"
  },
  "language_info": {
   "codemirror_mode": {
    "name": "ipython",
    "version": 3
   },
   "file_extension": ".py",
   "mimetype": "text/x-python",
   "name": "python",
   "nbconvert_exporter": "python",
   "pygments_lexer": "ipython3",
   "version": "3.13.3"
  }
 },
 "nbformat": 4,
 "nbformat_minor": 5
}
