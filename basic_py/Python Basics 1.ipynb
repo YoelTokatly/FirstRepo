{
 "cells": [
  {
   "cell_type": "code",
   "execution_count": null,
   "id": "809f38f0",
   "metadata": {},
   "outputs": [],
   "source": [
    "print (\"hello world\")"
   ]
  },
  {
   "cell_type": "code",
   "execution_count": null,
   "id": "5d18ad7a",
   "metadata": {},
   "outputs": [],
   "source": [
    "input(\"whats your name?\")"
   ]
  },
  {
   "cell_type": "code",
   "execution_count": null,
   "id": "f312cd36",
   "metadata": {},
   "outputs": [],
   "source": [
    "username=input(\"whats your name?\")\n",
    "print({username})\n",
    "\n"
   ]
  },
  {
   "cell_type": "code",
   "execution_count": null,
   "id": "2193d4ad",
   "metadata": {},
   "outputs": [],
   "source": [
    "user_name = input(\"What is your name? \")\n",
    "print(\"Hello \" + user_name)"
   ]
  },
  {
   "cell_type": "code",
   "execution_count": 3,
   "id": "f2c1bcfb",
   "metadata": {},
   "outputs": [
    {
     "name": "stdout",
     "output_type": "stream",
     "text": [
      "My name is yoel and I am 37 years old.\n"
     ]
    },
    {
     "data": {
      "text/plain": [
       "38"
      ]
     },
     "execution_count": 3,
     "metadata": {},
     "output_type": "execute_result"
    }
   ],
   "source": [
    "user_name = input(\"What is your name? \")\n",
    "user_age = input(\"What is your age? \")\n",
    "print(f\"My name is {user_name} and I am {user_age} years old.\")\n",
    "len(f\"My name is {user_name} and I am {user_age} years old.\")"
   ]
  },
  {
   "cell_type": "code",
   "execution_count": 6,
   "id": "f1f1c09d",
   "metadata": {},
   "outputs": [
    {
     "name": "stdout",
     "output_type": "stream",
     "text": [
      "My favorite color is red, I am 4.0 years old, and my favorite animal is dog.\n"
     ]
    }
   ],
   "source": [
    "favorite_color = input(\"What is your favorite color? \")\n",
    "user_age = input(\"What is your age? \")\n",
    "user_age =float(user_age)*2\n",
    "\n",
    "favorite_animal = input(\"What is your favorite animal? \")\n",
    "print(f\"My favorite color is {favorite_color}, I am {user_age} years old, and my favorite animal is {favorite_animal}.\")"
   ]
  },
  {
   "cell_type": "code",
   "execution_count": 6,
   "id": "5047b6b0",
   "metadata": {},
   "outputs": [
    {
     "name": "stdout",
     "output_type": "stream",
     "text": [
      "you are  38 years old\n"
     ]
    }
   ],
   "source": [
    "import pandas as pd\n",
    "\n",
    "\n",
    "date_entry = input('Enter a date in YYYY-MM-DD format')\n",
    "\n",
    "# Convert string to datetime object\n",
    "date_object = pd.to_datetime(date_entry)\n",
    "age = pd.Timestamp.now().year - date_object.year\n",
    "print(\"you are \", age, \"years old\")\n"
   ]
  },
  {
   "cell_type": "markdown",
   "id": "bd24709a",
   "metadata": {},
   "source": [
    "age = input(\"What is your age?\") \n",
    "hegiht = input(\"What is your hegiht?\") \n",
    "age = input(\"What is your age?\") "
   ]
  },
  {
   "cell_type": "markdown",
   "id": "122ab2c2",
   "metadata": {},
   "source": [
    "python basics"
   ]
  },
  {
   "cell_type": "code",
   "execution_count": null,
   "id": "2eb25fcd",
   "metadata": {},
   "outputs": [
    {
     "name": "stdout",
     "output_type": "stream",
     "text": [
      "You are rich\n"
     ]
    }
   ],
   "source": [
    "salary = input(\"Enter your salary: \")\n",
    "net_salary = float(salary) *(1-0.22)\n",
    "rent = 3000\n",
    "if net_salary > rent * 2:\n",
    "    print(\"You are rich\")\n",
    "else:\n",
    "    print(\"You are poor\")\n"
   ]
  }
 ],
 "metadata": {
  "kernelspec": {
   "display_name": "base",
   "language": "python",
   "name": "python3"
  },
  "language_info": {
   "codemirror_mode": {
    "name": "ipython",
    "version": 3
   },
   "file_extension": ".py",
   "mimetype": "text/x-python",
   "name": "python",
   "nbconvert_exporter": "python",
   "pygments_lexer": "ipython3",
   "version": "3.11.5"
  }
 },
 "nbformat": 4,
 "nbformat_minor": 5
}
