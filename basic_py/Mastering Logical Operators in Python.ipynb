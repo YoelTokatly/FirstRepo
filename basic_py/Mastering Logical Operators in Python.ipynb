{
 "cells": [
  {
   "cell_type": "code",
   "execution_count": null,
   "id": "8b917609",
   "metadata": {},
   "outputs": [],
   "source": [
    "# Mastering Logical Operators in Python"
   ]
  },
  {
   "cell_type": "code",
   "execution_count": 4,
   "id": "373bc914",
   "metadata": {},
   "outputs": [
    {
     "name": "stdout",
     "output_type": "stream",
     "text": [
      "[True, True, False, False, True]\n"
     ]
    }
   ],
   "source": [
    "#Part 1: Manual Evaluation (Truth Checking)\n",
    "A= 5>= 3 and 2 < 4 \n",
    "B= 10 == 2*5 or 3 != 3\n",
    "C= not (7 <= 7 and 4 > 1)\n",
    "D= (\"a\" == \"A\")\n",
    "E = 5 < 3 or (8 / 2 == 4 and not False)\n",
    "\n",
    "answers = [A, B, C, D, E]\n",
    "print( answers)"
   ]
  },
  {
   "cell_type": "code",
   "execution_count": null,
   "id": "419da220",
   "metadata": {},
   "outputs": [
    {
     "name": "stdout",
     "output_type": "stream",
     "text": [
      "17 dksf.py True -9220\n"
     ]
    }
   ],
   "source": [
    "# Boolean\n",
    "import random\n",
    "x = random.randint(10, 20)\n",
    "s = \"dksf.py\"\n",
    "test_s =  s.endswith(\".py\")\n",
    "n = random.randint(-10000,-100)\n",
    "temperature = range(0, 35)\n",
    "\n",
    "\n",
    "\n",
    "print( x, s, test_s, n)\n"
   ]
  },
  {
   "cell_type": "code",
   "execution_count": 36,
   "id": "c8300950",
   "metadata": {},
   "outputs": [
    {
     "name": "stdout",
     "output_type": "stream",
     "text": [
      "Access granted:False\n"
     ]
    }
   ],
   "source": [
    "## Part 3: Access Eligibility Checker\n",
    "\n",
    "age = int(input(\"Enter your age: \"))\n",
    "has_ticket = input(\"Do you have a ticket? (y/n): \").lower()\n",
    "vip_code = input(\"Enter Vip code : \").upper()\n",
    "\n",
    "if age < 0: \n",
    "    print(\"Invalid age!\")\n",
    "    exit(1)\n",
    "\n",
    "if age >= 18 and has_ticket == \"y\":\n",
    "    eligible = True\n",
    "elif vip_code == \"GOLDVIP\":\n",
    "    eligible = True\n",
    "else :\n",
    "    eligible = False\n",
    "\n",
    "    \n",
    "print(f\"Access granted:{eligible}\")\n",
    "\n",
    "\n"
   ]
  },
  {
   "cell_type": "code",
   "execution_count": null,
   "id": "00f2c3a0",
   "metadata": {},
   "outputs": [
    {
     "name": "stdout",
     "output_type": "stream",
     "text": [
      "True True 2\n"
     ]
    }
   ],
   "source": [
    "#Part 4: Form Input Validator\n",
    "username= input(\"What's your name?\").lower()\n",
    "password = input(\"Please enter password\").lower()\n",
    "email = input(\"Please enter your email adress\").lower()\n",
    "test = False\n",
    "\n",
    "if  len(username) > 0 and len(password) >= 8 and any(char.isdigit() for char in password) and email.count(\"@\") == 1 and email.endswith(\".com\"):\n",
    "    test = True\n",
    "     \n",
    "\n",
    "print(test)\n",
    "     \n"
   ]
  },
  {
   "cell_type": "code",
   "execution_count": 60,
   "id": "5c33e7c0",
   "metadata": {},
   "outputs": [
    {
     "name": "stdout",
     "output_type": "stream",
     "text": [
      "Final total: 90.0\n"
     ]
    }
   ],
   "source": [
    "# Part 5: Discount & Surcharge Calculator\n",
    "order_amount = float(input(\"Order amount:\"))\n",
    "customer_type = input(\"what is Customer type? regular (r) / member (m) / vip (v)\").lower()\n",
    "coupon_code = input (\"coupon_code\").upper()\n",
    "\n",
    "if order_amount < 50 : order_amount *= 1.05\n",
    "if customer_type == \"m\" or \"v\" : order_amount *= 0.9\n",
    "if customer_type == \"v\" and coupon_code == \"SAVE15\" : order_amount *= 0.85\n",
    "\n",
    "\n",
    "\n",
    "print (f\"Final total: {order_amount}\")\n"
   ]
  },
  {
   "cell_type": "code",
   "execution_count": null,
   "id": "fc9ce588",
   "metadata": {},
   "outputs": [],
   "source": []
  }
 ],
 "metadata": {
  "kernelspec": {
   "display_name": "Python 3",
   "language": "python",
   "name": "python3"
  },
  "language_info": {
   "codemirror_mode": {
    "name": "ipython",
    "version": 3
   },
   "file_extension": ".py",
   "mimetype": "text/x-python",
   "name": "python",
   "nbconvert_exporter": "python",
   "pygments_lexer": "ipython3",
   "version": "3.11.5"
  }
 },
 "nbformat": 4,
 "nbformat_minor": 5
}
