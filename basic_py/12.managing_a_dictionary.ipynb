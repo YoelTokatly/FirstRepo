{
 "cells": [
  {
   "cell_type": "code",
   "execution_count": 16,
   "id": "730df086",
   "metadata": {},
   "outputs": [
    {
     "data": {
      "text/plain": [
       "{'Alice': {'grade': 100, 'age': 10},\n",
       " 'yoel': {'grade': 92, 'age': 10},\n",
       " 'Dikela': {'grade': 92, 'age': 10}}"
      ]
     },
     "execution_count": 16,
     "metadata": {},
     "output_type": "execute_result"
    }
   ],
   "source": [
    "# create a list\n",
    "\n",
    "students = {\n",
    "             'Alice': {\"grade\" : 100 , \"age\" : 10 },\n",
    "             'yoel': {\"grade\" : 92 , \"age\" : 10 },\n",
    "             'Dikela': {\"grade\" : 92 , \"age\" : 10 }\n",
    "}\n",
    "students"
   ]
  },
  {
   "cell_type": "code",
   "execution_count": 3,
   "id": "0d42f4a6",
   "metadata": {},
   "outputs": [],
   "source": [
    "#adding\n",
    "students[\"haim\"] =     {\"grade\" : 100 , \"age\" : 5 }"
   ]
  },
  {
   "cell_type": "code",
   "execution_count": 4,
   "id": "669569bd",
   "metadata": {},
   "outputs": [],
   "source": [
    "\n",
    "#updat\n",
    "students[\"Alice\"][\"grade\"] = 50"
   ]
  },
  {
   "cell_type": "code",
   "execution_count": 5,
   "id": "0d8be199",
   "metadata": {},
   "outputs": [
    {
     "data": {
      "text/plain": [
       "{'grade': 50, 'age': 10}"
      ]
     },
     "execution_count": 5,
     "metadata": {},
     "output_type": "execute_result"
    }
   ],
   "source": [
    "# remove\n",
    "students.pop(\"Alice\")"
   ]
  },
  {
   "cell_type": "code",
   "execution_count": 7,
   "id": "c3430690",
   "metadata": {},
   "outputs": [
    {
     "name": "stdout",
     "output_type": "stream",
     "text": [
      "94.66666666666667\n"
     ]
    }
   ],
   "source": [
    "#average\n",
    "num_of_students = len(students)\n",
    "total_grade = 0\n",
    "for student_info in students.values():\n",
    "        total_grade += student_info[\"grade\"]\n",
    "        \n",
    "avg = total_grade / num_of_students\n",
    "print (avg)\n",
    "\n"
   ]
  },
  {
   "cell_type": "code",
   "execution_count": 17,
   "id": "a9a89035",
   "metadata": {},
   "outputs": [
    {
     "name": "stdout",
     "output_type": "stream",
     "text": [
      "Alice 100\n"
     ]
    }
   ],
   "source": [
    "#max\n",
    "max_grade = 0\n",
    "max_student = \"\"\n",
    "for name , info in students.items():\n",
    "    if info[\"grade\"] >= max_grade :\n",
    "        max_grade = info[\"grade\"]\n",
    "        max_student = name\n",
    "print(max_student,max_grade)"
   ]
  }
 ],
 "metadata": {
  "kernelspec": {
   "display_name": "Python 3",
   "language": "python",
   "name": "python3"
  },
  "language_info": {
   "codemirror_mode": {
    "name": "ipython",
    "version": 3
   },
   "file_extension": ".py",
   "mimetype": "text/x-python",
   "name": "python",
   "nbconvert_exporter": "python",
   "pygments_lexer": "ipython3",
   "version": "3.11.5"
  }
 },
 "nbformat": 4,
 "nbformat_minor": 5
}
