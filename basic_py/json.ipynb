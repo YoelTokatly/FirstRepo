{
 "cells": [
  {
   "cell_type": "markdown",
   "id": "a7b034eb",
   "metadata": {},
   "source": []
  },
  {
   "cell_type": "code",
   "execution_count": null,
   "id": "ece1e363",
   "metadata": {},
   "outputs": [],
   "source": []
  },
  {
   "cell_type": "code",
   "execution_count": null,
   "id": "2002ba7e",
   "metadata": {},
   "outputs": [
    {
     "name": "stdout",
     "output_type": "stream",
     "text": [
      "{'id': 1, 'title': 'Python 101', 'author': 'John Doe', 'ratings': [5, 4, 5]}\n",
      "1\n",
      "Python 101\n",
      "John Doe\n",
      "4.666666666666667\n",
      "3\n",
      "{'id': 2, 'title': 'Learn JavaScript', 'author': 'Jane Smith', 'ratings': [4, 5, 3]}\n",
      "2\n",
      "Learn JavaScript\n",
      "Jane Smith\n",
      "4.0\n",
      "3\n",
      "{'id': 3, 'title': 'New Book', 'author': 'New Author', 'ratings': [5, 4, 3]}\n",
      "3\n",
      "New Book\n",
      "New Author\n",
      "4.0\n",
      "3\n",
      "{'id': 4, 'title': 'New Book', 'author': 'New Author', 'ratings': [5, 4, 3]}\n",
      "4\n",
      "New Book\n",
      "New Author\n",
      "4.0\n",
      "3\n",
      "{'id': 5, 'title': 'new book', 'author': 'New Author', 'ratings': [5, 4, 3]}\n",
      "5\n",
      "new book\n",
      "New Author\n",
      "4.0\n",
      "3\n",
      "{'id': 6, 'title': 'new book22', 'author': 'New Author', 'ratings': [5, 4, 3]}\n",
      "6\n",
      "new book22\n",
      "New Author\n",
      "4.0\n",
      "3\n"
     ]
    }
   ],
   "source": [
    "#read from json file\n",
    "import json\n",
    "import pandas as pd\n",
    "file_name = \"./books.json\"\n",
    "\n",
    "with open(file_name, \"r\") as file:\n",
    "    data=json.load(file)\n",
    "    # print(data)\n",
    "ratings = []\n",
    "for i in data['books']: \n",
    "    print(i)\n",
    "    print(i['id'])\n",
    "    print(i['title'])\n",
    "    print(i['author'])\n",
    "\n",
    "    number=len(i['ratings'])\n",
    "    avg= pd.Series(i['ratings']).sum() / number\n",
    "    print(avg)\n",
    "    print(number)"
   ]
  },
  {
   "cell_type": "code",
   "execution_count": null,
   "id": "92df7a60",
   "metadata": {},
   "outputs": [
    {
     "name": "stdout",
     "output_type": "stream",
     "text": [
      "Book does not exist. let's add it\n",
      "Book added successfully!\n"
     ]
    }
   ],
   "source": [
    "#add a new book\n",
    "id = max(data['books'], key=lambda x: x['id'])['id'] + 1\n",
    "book_name= \"new book22\" \n",
    "titels = []\n",
    "for i in data['books']:\n",
    "    titels.append(i['title'])\n",
    "\n",
    "if book_name in titels:\n",
    "        print(\"Book already exists\")\n",
    "        exit (1)\n",
    "else:\n",
    "    print(\"Book does not exist. let's add it\")\n",
    "#add a new book\n",
    "    new_book = {\n",
    "        \"id\": id,\n",
    "        \"title\": book_name,\n",
    "        \"author\": \"New Author\",\n",
    "        \"ratings\": [5, 4, 3]\n",
    "    }\n",
    "    data['books'].append(new_book)\n",
    "    #save to json file\n",
    "    with open(\"./sampel.json\", \"w\") as file:\n",
    "        json.dump(data, file, indent=4)\n",
    "        print(\"Book added successfully!\")\n",
    "    #remove a book\n",
    "\n",
    "    "
   ]
  }
 ],
 "metadata": {
  "kernelspec": {
   "display_name": "Python 3",
   "language": "python",
   "name": "python3"
  },
  "language_info": {
   "codemirror_mode": {
    "name": "ipython",
    "version": 3
   },
   "file_extension": ".py",
   "mimetype": "text/x-python",
   "name": "python",
   "nbconvert_exporter": "python",
   "pygments_lexer": "ipython3",
   "version": "3.13.3"
  }
 },
 "nbformat": 4,
 "nbformat_minor": 5
}
