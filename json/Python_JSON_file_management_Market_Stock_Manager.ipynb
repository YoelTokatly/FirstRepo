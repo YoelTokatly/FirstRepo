{
 "cells": [
  {
   "cell_type": "markdown",
   "id": "f71ed660",
   "metadata": {},
   "source": [
    "Python JSON file management - Market Stock Manager"
   ]
  },
  {
   "cell_type": "code",
   "execution_count": 4,
   "id": "05d633cc",
   "metadata": {},
   "outputs": [],
   "source": [
    "import json\n",
    "import pandas as pd"
   ]
  },
  {
   "cell_type": "code",
   "execution_count": null,
   "id": "cbecc91a",
   "metadata": {},
   "outputs": [],
   "source": [
    "with open('stock.json', 'r') as file:\n",
    "    data = json.load(file)\n",
    "    # Assuming the JSON data is a list of dictionaries\n",
    "\n",
    "data"
   ]
  },
  {
   "cell_type": "code",
   "execution_count": null,
   "id": "0ca5af91",
   "metadata": {},
   "outputs": [],
   "source": [
    "# 1.Print the names of all products\n",
    "for product in data:\n",
    "    print(product['name'])\n"
   ]
  },
  {
   "cell_type": "code",
   "execution_count": null,
   "id": "5d1a0c4c",
   "metadata": {},
   "outputs": [],
   "source": [
    "#2.print the names of all products with a price\n",
    "for product in data:\n",
    "    print(f' Product: {product['name']} - Price: {product['price']}')"
   ]
  },
  {
   "cell_type": "code",
   "execution_count": null,
   "id": "e9f2bd10",
   "metadata": {},
   "outputs": [],
   "source": [
    "#3.print the names of all products with a price and stock above 50\n",
    "for product in data:\n",
    "    if product['stock'] >= 50:\n",
    "        print(f' Product: {product['name']} - Price: {product['price']}, Stock: {product['stock']}')\n",
    "\n",
    "        "
   ]
  },
  {
   "cell_type": "code",
   "execution_count": 44,
   "id": "a87c5b85",
   "metadata": {},
   "outputs": [
    {
     "data": {
      "text/html": [
       "<div>\n",
       "<style scoped>\n",
       "    .dataframe tbody tr th:only-of-type {\n",
       "        vertical-align: middle;\n",
       "    }\n",
       "\n",
       "    .dataframe tbody tr th {\n",
       "        vertical-align: top;\n",
       "    }\n",
       "\n",
       "    .dataframe thead th {\n",
       "        text-align: right;\n",
       "    }\n",
       "</style>\n",
       "<table border=\"1\" class=\"dataframe\">\n",
       "  <thead>\n",
       "    <tr style=\"text-align: right;\">\n",
       "      <th></th>\n",
       "      <th>id</th>\n",
       "      <th>name</th>\n",
       "      <th>category</th>\n",
       "      <th>price</th>\n",
       "      <th>stock</th>\n",
       "      <th>comment</th>\n",
       "    </tr>\n",
       "  </thead>\n",
       "  <tbody>\n",
       "    <tr>\n",
       "      <th>1</th>\n",
       "      <td>2</td>\n",
       "      <td>Banana</td>\n",
       "      <td>Fruit</td>\n",
       "      <td>0.3</td>\n",
       "      <td>120</td>\n",
       "      <td>High Stock</td>\n",
       "    </tr>\n",
       "    <tr>\n",
       "      <th>5</th>\n",
       "      <td>6</td>\n",
       "      <td>Tomatoes</td>\n",
       "      <td>Vegetable</td>\n",
       "      <td>1.0</td>\n",
       "      <td>100</td>\n",
       "      <td>High Stock</td>\n",
       "    </tr>\n",
       "    <tr>\n",
       "      <th>3</th>\n",
       "      <td>4</td>\n",
       "      <td>Milk 1L</td>\n",
       "      <td>Dairy</td>\n",
       "      <td>1.5</td>\n",
       "      <td>80</td>\n",
       "      <td>High Stock</td>\n",
       "    </tr>\n",
       "    <tr>\n",
       "      <th>8</th>\n",
       "      <td>9</td>\n",
       "      <td>Yogurt</td>\n",
       "      <td>Dairy</td>\n",
       "      <td>0.9</td>\n",
       "      <td>75</td>\n",
       "      <td>High Stock</td>\n",
       "    </tr>\n",
       "    <tr>\n",
       "      <th>4</th>\n",
       "      <td>5</td>\n",
       "      <td>Eggs Pack (12)</td>\n",
       "      <td>Dairy</td>\n",
       "      <td>2.2</td>\n",
       "      <td>60</td>\n",
       "      <td>High Stock</td>\n",
       "    </tr>\n",
       "    <tr>\n",
       "      <th>0</th>\n",
       "      <td>1</td>\n",
       "      <td>Apple Juice</td>\n",
       "      <td>Beverage</td>\n",
       "      <td>2.5</td>\n",
       "      <td>50</td>\n",
       "      <td>Low Stock</td>\n",
       "    </tr>\n",
       "    <tr>\n",
       "      <th>9</th>\n",
       "      <td>10</td>\n",
       "      <td>Orange Juice</td>\n",
       "      <td>Beverage</td>\n",
       "      <td>2.8</td>\n",
       "      <td>45</td>\n",
       "      <td>Low Stock</td>\n",
       "    </tr>\n",
       "    <tr>\n",
       "      <th>7</th>\n",
       "      <td>8</td>\n",
       "      <td>Cereal</td>\n",
       "      <td>Grocery</td>\n",
       "      <td>3.0</td>\n",
       "      <td>40</td>\n",
       "      <td>Low Stock</td>\n",
       "    </tr>\n",
       "    <tr>\n",
       "      <th>2</th>\n",
       "      <td>3</td>\n",
       "      <td>Whole Wheat Bread</td>\n",
       "      <td>Bakery</td>\n",
       "      <td>1.8</td>\n",
       "      <td>30</td>\n",
       "      <td>Low Stock</td>\n",
       "    </tr>\n",
       "    <tr>\n",
       "      <th>6</th>\n",
       "      <td>7</td>\n",
       "      <td>Chicken Breast</td>\n",
       "      <td>Meat</td>\n",
       "      <td>5.5</td>\n",
       "      <td>25</td>\n",
       "      <td>Low Stock</td>\n",
       "    </tr>\n",
       "  </tbody>\n",
       "</table>\n",
       "</div>"
      ],
      "text/plain": [
       "   id               name   category  price  stock     comment\n",
       "1   2             Banana      Fruit    0.3    120  High Stock\n",
       "5   6           Tomatoes  Vegetable    1.0    100  High Stock\n",
       "3   4            Milk 1L      Dairy    1.5     80  High Stock\n",
       "8   9             Yogurt      Dairy    0.9     75  High Stock\n",
       "4   5     Eggs Pack (12)      Dairy    2.2     60  High Stock\n",
       "0   1        Apple Juice   Beverage    2.5     50   Low Stock\n",
       "9  10       Orange Juice   Beverage    2.8     45   Low Stock\n",
       "7   8             Cereal    Grocery    3.0     40   Low Stock\n",
       "2   3  Whole Wheat Bread     Bakery    1.8     30   Low Stock\n",
       "6   7     Chicken Breast       Meat    5.5     25   Low Stock"
      ]
     },
     "execution_count": 44,
     "metadata": {},
     "output_type": "execute_result"
    }
   ],
   "source": [
    "#4. Add a new field to each item\n",
    "for product in data:\n",
    "    if product['stock'] <= 50:\n",
    "        product[\"comment\"] = \"Low Stock\"\n",
    "    else:\n",
    "        product[\"comment\"] = \"High Stock\"\n",
    "df= pd.DataFrame(data)\n",
    "df.sort_values(by='stock', ascending=False, inplace=True)\n",
    "df\n",
    "# print (data)\n",
    "    \n",
    "    # Example: Add a \"discount\" column with a value of 0\n",
    "    # item[\"discount\"] = 0\n",
    "    \n",
    "    # Example: Calculate a value based on existing data\n",
    "    # item[\"total_value\"] = item[\"price\"] * item[\"stock\"]\n",
    "\n",
    "# # Save the modified data back to the file\n",
    "# with open('stock.json', 'w') as file:\n",
    "#     # The indent parameter makes the output file nicely formatted\n",
    "#     json.dump(data, file, indent=4)\n",
    "\n",
    "# print(\"New column added successfully!\")\n"
   ]
  },
  {
   "cell_type": "code",
   "execution_count": null,
   "id": "5674a994",
   "metadata": {},
   "outputs": [
    {
     "name": "stdout",
     "output_type": "stream",
     "text": [
      " Product: Milk 1L - Price: 1.5, Stock: 80\n",
      " Product: Eggs Pack (12) - Price: 2.2, Stock: 60\n",
      " Product: Yogurt - Price: 0.9, Stock: 75\n"
     ]
    },
    {
     "data": {
      "text/html": [
       "<div>\n",
       "<style scoped>\n",
       "    .dataframe tbody tr th:only-of-type {\n",
       "        vertical-align: middle;\n",
       "    }\n",
       "\n",
       "    .dataframe tbody tr th {\n",
       "        vertical-align: top;\n",
       "    }\n",
       "\n",
       "    .dataframe thead th {\n",
       "        text-align: right;\n",
       "    }\n",
       "</style>\n",
       "<table border=\"1\" class=\"dataframe\">\n",
       "  <thead>\n",
       "    <tr style=\"text-align: right;\">\n",
       "      <th></th>\n",
       "      <th>id</th>\n",
       "      <th>name</th>\n",
       "      <th>category</th>\n",
       "      <th>price</th>\n",
       "      <th>stock</th>\n",
       "      <th>comment</th>\n",
       "    </tr>\n",
       "  </thead>\n",
       "  <tbody>\n",
       "    <tr>\n",
       "      <th>3</th>\n",
       "      <td>4</td>\n",
       "      <td>Milk 1L</td>\n",
       "      <td>Dairy</td>\n",
       "      <td>1.5</td>\n",
       "      <td>80</td>\n",
       "      <td>High Stock</td>\n",
       "    </tr>\n",
       "    <tr>\n",
       "      <th>8</th>\n",
       "      <td>9</td>\n",
       "      <td>Yogurt</td>\n",
       "      <td>Dairy</td>\n",
       "      <td>0.9</td>\n",
       "      <td>75</td>\n",
       "      <td>High Stock</td>\n",
       "    </tr>\n",
       "    <tr>\n",
       "      <th>4</th>\n",
       "      <td>5</td>\n",
       "      <td>Eggs Pack (12)</td>\n",
       "      <td>Dairy</td>\n",
       "      <td>2.2</td>\n",
       "      <td>60</td>\n",
       "      <td>High Stock</td>\n",
       "    </tr>\n",
       "  </tbody>\n",
       "</table>\n",
       "</div>"
      ],
      "text/plain": [
       "   id            name category  price  stock     comment\n",
       "3   4         Milk 1L    Dairy    1.5     80  High Stock\n",
       "8   9          Yogurt    Dairy    0.9     75  High Stock\n",
       "4   5  Eggs Pack (12)    Dairy    2.2     60  High Stock"
      ]
     },
     "execution_count": 46,
     "metadata": {},
     "output_type": "execute_result"
    }
   ],
   "source": [
    "#5. get product of a categopry\n",
    "df_category = pd.DataFrame(data)\n",
    "input_category = input(\"Enter the category: \")\n",
    "for product in data:\n",
    "    if product['category'] == input_category:\n",
    "        print(f' Product: {product['name']} - Price: {product['price']}, Stock: {product['stock']}')\n",
    "#the same thing with pandas \n",
    "df_category = df[df['category'] == input_category]\n",
    "df_category"
   ]
  },
  {
   "cell_type": "code",
   "execution_count": null,
   "id": "a367d09e",
   "metadata": {},
   "outputs": [],
   "source": [
    "#6. range of price\n",
    "min_price = int(input(\"Enter the minimum price: \"))\n",
    "max_price = int(input(\"Enter the maximum price: \"))\n",
    "price_range = range(min_price, max_price+1)\n",
    "for product in data:\n",
    "    if product['price'] >= min_price and product['price'] <= max_price:\n",
    "        print(f' Product: {product['name']} - Price: {product['price']}, Stock: {product['stock']}')\n",
    "#the same thing with pandas\n",
    "df_price_range = df[(df['price'] >= min_price) & (df['price'] <= max_price)]\n",
    "df_price_range\n",
    "\n"
   ]
  },
  {
   "cell_type": "code",
   "execution_count": 55,
   "id": "7bdb6855",
   "metadata": {},
   "outputs": [
    {
     "name": "stdout",
     "output_type": "stream",
     "text": [
      " Product: Yogurt - Price: 0.9, Stock: 75\n"
     ]
    }
   ],
   "source": [
    "#7.find_product_by_name(name) \n",
    "def find_product_by_name(name) :\n",
    "    for product in data:\n",
    "        if product['name'] == name:\n",
    "            print(f' Product: {product['name']} - Price: {product['price']}, Stock: {product['stock']}')\n",
    "            return\n",
    "    print(\"Not found\") \n",
    "\n",
    "input_name = input(\"Enter the name of the product: \")   \n",
    "find_product_by_name(input_name)"
   ]
  },
  {
   "cell_type": "code",
   "execution_count": 6,
   "id": "4bc57da9",
   "metadata": {},
   "outputs": [
    {
     "data": {
      "text/plain": [
       "True"
      ]
     },
     "execution_count": 6,
     "metadata": {},
     "output_type": "execute_result"
    }
   ],
   "source": [
    "#8. is uniqe ud\n",
    "def is_unique_id(product_id):\n",
    "    for product in data:\n",
    "        if product['id'] == product_id:\n",
    "            return False\n",
    "    return True\n",
    "\n",
    "product_id = 11\n",
    "is_unique_id(product_id)"
   ]
  },
  {
   "cell_type": "code",
   "execution_count": 7,
   "id": "ceec3e26",
   "metadata": {},
   "outputs": [],
   "source": [
    "#9. add_product\n",
    "def add_product():\n",
    "    new_product = {}\n",
    "    new_product['id'] = int(input(\"Enter the product ID: \"))\n",
    "    new_product['name'] = input(\"Enter the product name: \")\n",
    "    new_product['category'] = input(\"Enter the product category: \")\n",
    "    new_product['price'] = float(input(\"Enter the product price: \"))\n",
    "    new_product['stock'] = int(input(\"Enter the product stock: \"))\n",
    "\n",
    "    is_unique_id(new_product['id'])\n",
    "    if new_product['price'] <= 0:\n",
    "        print(\"Price cannot be negative\")\n",
    "        return\n",
    "    if new_product['stock'] < 0:\n",
    "        print(\"Stock cannot be negative\")\n",
    "        return\n",
    "    data.append(new_product)\n",
    "    with open ('stock.json', 'w') as file:\n",
    "        json.dump(data, file, indent=4)\n",
    "    return  \n",
    "    \n",
    "add_product()"
   ]
  },
  {
   "cell_type": "code",
   "execution_count": 8,
   "id": "9d068f98",
   "metadata": {},
   "outputs": [
    {
     "name": "stdout",
     "output_type": "stream",
     "text": [
      "Product not found\n"
     ]
    }
   ],
   "source": [
    "#10.update_stock(product_id, new_stock) \n",
    "def update_stock(product_id, new_stock):\n",
    "    for product in data:\n",
    "        if product['id'] == product_id:\n",
    "            product['stock'] = new_stock\n",
    "    \n",
    "    with open('stock.json' , 'w') as file:\n",
    "        json.dump(data, file, indent=4)\n",
    "    print(\"Product not found\")\n",
    "\n",
    "product_id = 1\n",
    "new_stock = 100\n",
    "update_stock(product_id, new_stock)\n"
   ]
  }
 ],
 "metadata": {
  "kernelspec": {
   "display_name": "Python 3",
   "language": "python",
   "name": "python3"
  },
  "language_info": {
   "codemirror_mode": {
    "name": "ipython",
    "version": 3
   },
   "file_extension": ".py",
   "mimetype": "text/x-python",
   "name": "python",
   "nbconvert_exporter": "python",
   "pygments_lexer": "ipython3",
   "version": "3.13.3"
  }
 },
 "nbformat": 4,
 "nbformat_minor": 5
}
