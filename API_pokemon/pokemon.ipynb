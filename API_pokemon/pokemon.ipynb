{
 "cells": [
  {
   "cell_type": "code",
   "execution_count": null,
   "id": "3448574b",
   "metadata": {},
   "outputs": [],
   "source": [
    "adress \n",
    "# https://pokeapi.co/"
   ]
  },
  {
   "cell_type": "code",
   "execution_count": 31,
   "id": "130ece4d",
   "metadata": {},
   "outputs": [],
   "source": [
    "import requests\n",
    "import json\n",
    "import pandas as pd\n",
    "import sqlite3"
   ]
  },
  {
   "cell_type": "code",
   "execution_count": null,
   "id": "8168eb02",
   "metadata": {},
   "outputs": [],
   "source": [
    "with open('pokemons.json', 'r') as file:\n",
    "        # json.dump(data, file, indent=4)\n",
    "        local_db = json.load(file)\n",
    "        # for name in local_db['results']:\n",
    "        df_local_db = pd.DataFrame(local_db['results'])\n",
    "        print(df_local_db['name'])\n",
    "        # print (local_db)\n",
    "\n"
   ]
  },
  {
   "cell_type": "code",
   "execution_count": null,
   "id": "c26f648a",
   "metadata": {},
   "outputs": [],
   "source": [
    "BASE_URL=\"https://pokeapi.co/api/v2/ditto\"\n",
    "response = requests.get(BASE_URL)\n",
    "print(response)     \n",
    "data = response.json()\n",
    "print(data)    "
   ]
  },
  {
   "cell_type": "code",
   "execution_count": null,
   "id": "933c6ee2",
   "metadata": {},
   "outputs": [],
   "source": [
    "BASE_URL=\"https://pokeapi.co/api/v2/\"\n",
    "CATEGORY = \"pokemon/\"\n",
    "print (f'{BASE_URL}{CATEGORY}')\n",
    "\n",
    "response = requests.get(f'{BASE_URL}{CATEGORY}')\n",
    "print(response)     \n",
    "data = response.json()\n",
    "print(data['results'])\n",
    "df_data = pd.DataFrame(data['results'])\n",
    "# print(df_data)\n",
    "\n",
    "\n",
    "conn = sqlite3.connect('my_database.db')\n",
    "\n",
    "# Write the DataFrame to an SQL table\n",
    "# If the table doesn't exist, it will be created\n",
    "# If it exists, you can append to it or replace it\n",
    "df_data.to_sql('pokemons', conn, if_exists='append', index=False)\n",
    "\n",
    "query_df = pd.read_sql_query(\"SELECT * FROM pokemons\", conn)\n",
    "print(query_df)"
   ]
  },
  {
   "cell_type": "code",
   "execution_count": null,
   "id": "bc7033f7",
   "metadata": {},
   "outputs": [],
   "source": [
    "\n",
    "conn = sqlite3.connect('my_database2.db')\n",
    "query_df = pd.read_sql_query(\"SELECT * FROM pokemons\", )\n",
    "query_df\n",
    "# df_data.to_sql('pokemons', conn, if_exists='append', index=False)"
   ]
  },
  {
   "cell_type": "code",
   "execution_count": 14,
   "id": "f3e7ec5b",
   "metadata": {},
   "outputs": [
    {
     "name": "stdout",
     "output_type": "stream",
     "text": [
      "{'count': 1302, 'next': 'https://pokeapi.co/api/v2/pokemon/?offset=20&limit=20', 'previous': None, 'results': [{'name': 'bulbasaur', 'url': 'https://pokeapi.co/api/v2/pokemon/1/'}, {'name': 'ivysaur', 'url': 'https://pokeapi.co/api/v2/pokemon/2/'}, {'name': 'venusaur', 'url': 'https://pokeapi.co/api/v2/pokemon/3/'}, {'name': 'charmander', 'url': 'https://pokeapi.co/api/v2/pokemon/4/'}, {'name': 'charmeleon', 'url': 'https://pokeapi.co/api/v2/pokemon/5/'}, {'name': 'charizard', 'url': 'https://pokeapi.co/api/v2/pokemon/6/'}, {'name': 'squirtle', 'url': 'https://pokeapi.co/api/v2/pokemon/7/'}, {'name': 'wartortle', 'url': 'https://pokeapi.co/api/v2/pokemon/8/'}, {'name': 'blastoise', 'url': 'https://pokeapi.co/api/v2/pokemon/9/'}, {'name': 'caterpie', 'url': 'https://pokeapi.co/api/v2/pokemon/10/'}, {'name': 'metapod', 'url': 'https://pokeapi.co/api/v2/pokemon/11/'}, {'name': 'butterfree', 'url': 'https://pokeapi.co/api/v2/pokemon/12/'}, {'name': 'weedle', 'url': 'https://pokeapi.co/api/v2/pokemon/13/'}, {'name': 'kakuna', 'url': 'https://pokeapi.co/api/v2/pokemon/14/'}, {'name': 'beedrill', 'url': 'https://pokeapi.co/api/v2/pokemon/15/'}, {'name': 'pidgey', 'url': 'https://pokeapi.co/api/v2/pokemon/16/'}, {'name': 'pidgeotto', 'url': 'https://pokeapi.co/api/v2/pokemon/17/'}, {'name': 'pidgeot', 'url': 'https://pokeapi.co/api/v2/pokemon/18/'}, {'name': 'raticate', 'url': 'https://pokeapi.co/api/v2/pokemon/20/'}]}\n"
     ]
    }
   ],
   "source": [
    "with open('pokemons.json', 'r') as file:\n",
    "        local_data = json.load(file)\n",
    "print (local_data)"
   ]
  },
  {
   "cell_type": "code",
   "execution_count": null,
   "id": "f154a810",
   "metadata": {},
   "outputs": [],
   "source": [
    "with open('pokemons.json', 'r') as file:\n",
    "        local_data = json.load(file)\n",
    "        local_df = pd.DataFrame(local_data['results'])\n",
    "        local_df.loc\n",
    "        \n",
    "\n",
    "        print (local_df)"
   ]
  },
  {
   "cell_type": "code",
   "execution_count": null,
   "id": "43261a60",
   "metadata": {},
   "outputs": [
    {
     "data": {
      "text/plain": [
       "<sqlite3.Cursor at 0x7fdebaabf340>"
      ]
     },
     "execution_count": 23,
     "metadata": {},
     "output_type": "execute_result"
    }
   ],
   "source": [
    "import sqlite3\n",
    "\n",
    "# Create a connection to a new database file (or connect to existing one)\n",
    "conn = sqlite3.connect('pokemon.db')\n",
    "\n",
    "# Create a cursor object to execute SQL commands\n",
    "cursor = conn.cursor()\n",
    "\n",
    "# Create a table\n",
    "cursor.execute('''\n",
    "CREATE TABLE IF NOT EXISTS pokemons (\n",
    "    id INTEGER PRIMARY KEY,\n",
    "    name TEXT NOT NULL,\n",
    "    height INTEGER,\n",
    "    weight INTEGER,\n",
    "    base_experience TEXT\n",
    ")           \n",
    "''')\n",
    "\n"
   ]
  },
  {
   "cell_type": "code",
   "execution_count": 24,
   "id": "35cb8efd",
   "metadata": {},
   "outputs": [
    {
     "data": {
      "text/plain": [
       "<sqlite3.Cursor at 0x7fdebaabf340>"
      ]
     },
     "execution_count": 24,
     "metadata": {},
     "output_type": "execute_result"
    }
   ],
   "source": [
    "cursor.execute('''\n",
    "INSERT INTO pokemons (id, name, height, weight,base_experience ) VALUES (?,?,?,?,?)\n",
    "''', (1, 'test', 10,10,'fire'))"
   ]
  },
  {
   "cell_type": "code",
   "execution_count": 34,
   "id": "6a415983",
   "metadata": {},
   "outputs": [
    {
     "name": "stdout",
     "output_type": "stream",
     "text": [
      "(1, 'test', 10, 10, 'fire')\n"
     ]
    }
   ],
   "source": [
    "cursor.execute('SELECT * FROM pokemons')\n",
    "pokemons = cursor.fetchall()\n",
    "for pok in pokemons:\n",
    "    print(pok)"
   ]
  }
 ],
 "metadata": {
  "kernelspec": {
   "display_name": "Python 3",
   "language": "python",
   "name": "python3"
  },
  "language_info": {
   "codemirror_mode": {
    "name": "ipython",
    "version": 3
   },
   "file_extension": ".py",
   "mimetype": "text/x-python",
   "name": "python",
   "nbconvert_exporter": "python",
   "pygments_lexer": "ipython3",
   "version": "3.13.3"
  }
 },
 "nbformat": 4,
 "nbformat_minor": 5
}
