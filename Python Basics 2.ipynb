{
 "cells": [
  {
   "cell_type": "code",
   "execution_count": 1,
   "id": "a2e96b82",
   "metadata": {},
   "outputs": [
    {
     "name": "stdout",
     "output_type": "stream",
     "text": [
      "You are rich\n"
     ]
    }
   ],
   "source": [
    "salary = input(\"Enter your salary: \")\n",
    "net_salary = float(salary) *(1-0.22)\n",
    "rent = 3000\n",
    "if net_salary > rent * 2:\n",
    "    print(\"You are rich\")\n",
    "else:\n",
    "    print(\"You are poor\")\n"
   ]
  },
  {
   "cell_type": "markdown",
   "id": "340ac9ca",
   "metadata": {},
   "source": [
    "Exercise 1: Salary Breakdown"
   ]
  },
  {
   "cell_type": "code",
   "execution_count": 2,
   "id": "919dbb6c",
   "metadata": {},
   "outputs": [
    {
     "name": "stdout",
     "output_type": "stream",
     "text": [
      "Not enough to rent\n",
      "You have missing -1440.0 for the rent!\n"
     ]
    }
   ],
   "source": [
    "salary = input(\"Enter your salary: \")\n",
    "net_salary = float(salary) *(1-0.22)\n",
    "rent = 3000\n",
    "save = 1000\n",
    "if net_salary > rent + save :\n",
    "    print(\"Rent and save!\")\n",
    "elif net_salary > rent:\n",
    "    print(\"Just rent\")\n",
    "else:\n",
    "    print(\"Not enough to rent\")\n",
    "    gap= net_salary - rent\n",
    "    print(\"You have missing\", gap, \"for the rent!\") "
   ]
  },
  {
   "cell_type": "markdown",
   "id": "c93bbd4a",
   "metadata": {},
   "source": [
    "📦 Exercise 2: Shipping Calculator"
   ]
  },
  {
   "cell_type": "code",
   "execution_count": 9,
   "id": "46d3d938",
   "metadata": {},
   "outputs": [
    {
     "name": "stdout",
     "output_type": "stream",
     "text": [
      "Subtotal is 1400\n",
      "shipping fee is 0\n",
      "Discount is 10.0 %\n",
      "Total is 1260.0\n"
     ]
    }
   ],
   "source": [
    "item_price=700\n",
    "quntity=2\n",
    "subtotal = item_price*quntity\n",
    "print(\"Subtotal is\", subtotal)\n",
    "if subtotal < 200:\n",
    "    shipping_fee = 10\n",
    "else: shipping_fee = 0\n",
    "print (\"shipping fee is\", shipping_fee)\n",
    "if  subtotal>500:\n",
    "    discount = 0.1 \n",
    "else: discount = 0\n",
    "print(\"Discount is\", discount*100, \"%\")\n",
    "\n",
    "total = (subtotal + shipping_fee) * (1-discount)\n",
    "print(\"Total is\", total)  \n"
   ]
  },
  {
   "cell_type": "markdown",
   "id": "d0f4510b",
   "metadata": {},
   "source": [
    "🛡 Exercise 3: Medieval Guard Duty  "
   ]
  },
  {
   "cell_type": "code",
   "execution_count": 35,
   "id": "8bd854bc",
   "metadata": {},
   "outputs": [
    {
     "name": "stdout",
     "output_type": "stream",
     "text": [
      "age 20 <class 'int'> gold pass false <class 'str'> royalty true <class 'str'> blacklisted false <class 'str'>\n",
      "please enter\n"
     ]
    }
   ],
   "source": [
    "user_age=int(input(\"What is your age: \"))\n",
    "if user_age >= 18 :\n",
    "\n",
    "    has_gold_pass=input(\"Do you have a gold pass? (True/False): \").lower()\n",
    "    is_royalty=input(\"Are you a royal? (True/False): \").lower()\n",
    "    is_blacklisted=input(\"Are you blacklisted? (True/False): \").lower()\n",
    "    # test\n",
    "    print( \"age\",user_age,type(user_age),\n",
    "        \"gold pass\",has_gold_pass,type(has_gold_pass),\n",
    "        \"royalty\",is_royalty,type(is_royalty),\n",
    "        \"blacklisted\",is_blacklisted,type(is_blacklisted))\n",
    "    if has_gold_pass==\"true\" or is_royalty ==\"true\" and  is_blacklisted==\"false\":\n",
    "        print(\"please enter\")\n",
    "    else:\n",
    "        print(\"You are not allowed to enter\")\n",
    "    \n",
    "else:\n",
    "    print(\"You are to young to enter\")\n",
    "    \n"
   ]
  },
  {
   "cell_type": "code",
   "execution_count": null,
   "id": "fb23099e",
   "metadata": {},
   "outputs": [],
   "source": [
    "🚗 Exercise 4: Car Insurance Quote"
   ]
  },
  {
   "cell_type": "code",
   "execution_count": 38,
   "id": "d05a027f",
   "metadata": {},
   "outputs": [
    {
     "name": "stdout",
     "output_type": "stream",
     "text": [
      "Your insurance premium is 3500\n",
      "Standard\n"
     ]
    }
   ],
   "source": [
    "user_age=int(input(\"What is your age: \"))\n",
    "user_accident=int(input(\"Who many accidents have you had in the last 3 years: \"))\n",
    "if user_age < 25:\n",
    "    base_premium = 3000 \n",
    "else:\n",
    "    base_premium = 2000\n",
    "premium = base_premium + (user_accident * 500)\n",
    "print(\"Your insurance premium is\", premium) \n",
    "if premium > 5000:\n",
    "    print(\"high risk\")\n",
    "else:\n",
    "    print(\"Standard\")"
   ]
  },
  {
   "cell_type": "markdown",
   "id": "b58fd948",
   "metadata": {},
   "source": [
    "🧪 Exercise 5: Lab Safety Checklist"
   ]
  },
  {
   "cell_type": "code",
   "execution_count": null,
   "id": "85a8e253",
   "metadata": {},
   "outputs": [
    {
     "name": "stdout",
     "output_type": "stream",
     "text": [
      "Safe to proceed\n"
     ]
    }
   ],
   "source": [
    "\n",
    "temperature = 25\n",
    "pressure = 1.2  \n",
    "voltage = 220\n",
    "\n",
    "if temperature >= 20 and temperature <= 80  and pressure < 50 and voltage >= 200 and voltage <= 250:\n",
    "    print(\"Safe to proceed\")\n",
    "else:\n",
    "    print(\"Unsafe conditions\")"
   ]
  },
  {
   "cell_type": "markdown",
   "id": "37841747",
   "metadata": {},
   "source": [
    "🧙 Exercise 6: Wizard’s Final Exam "
   ]
  },
  {
   "cell_type": "code",
   "execution_count": null,
   "id": "306e3740",
   "metadata": {},
   "outputs": [],
   "source": [
    "temperature = 25\n",
    "pressure = 1.2  \n",
    "voltage = 220"
   ]
  },
  {
   "cell_type": "code",
   "execution_count": 53,
   "id": "2f7a211b",
   "metadata": {},
   "outputs": [
    {
     "name": "stdout",
     "output_type": "stream",
     "text": [
      "Fail\n"
     ]
    }
   ],
   "source": [
    "import random\n",
    "\n",
    "#Variabls\n",
    "power = random.randint(0, 100)\n",
    "accuracy = random.randint(0, 100)\n",
    "control = random.randint(0, 100)\n",
    "average_score = (power + accuracy + control) / 3\n",
    "\n",
    "if power < 40 or accuracy < 40 or control < 40:\n",
    "    print(\"Fail\")\n",
    "elif average_score >= 90:\n",
    "    print(\"Archmage\")\n",
    "elif average_score >= 75:\n",
    "    Print(\"Mage\")\n",
    "elif average_score >= 60:\n",
    "    print(\"Apprentice\")\n",
    "else :\n",
    "    print(\"Fail\")"
   ]
  }
 ],
 "metadata": {
  "kernelspec": {
   "display_name": "base",
   "language": "python",
   "name": "python3"
  },
  "language_info": {
   "codemirror_mode": {
    "name": "ipython",
    "version": 3
   },
   "file_extension": ".py",
   "mimetype": "text/x-python",
   "name": "python",
   "nbconvert_exporter": "python",
   "pygments_lexer": "ipython3",
   "version": "3.11.5"
  }
 },
 "nbformat": 4,
 "nbformat_minor": 5
}
