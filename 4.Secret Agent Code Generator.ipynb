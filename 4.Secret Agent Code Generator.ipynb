{
 "cells": [
  {
   "cell_type": "code",
   "execution_count": null,
   "id": "4c2ac931",
   "metadata": {},
   "outputs": [
    {
     "name": "stdout",
     "output_type": "stream",
     "text": [
      "All inputs are valid.\n",
      "All inputs are valid.\n",
      "a-a-a\n",
      "1 1\n",
      "a a a\n",
      "Secret Code: a-a-a\n",
      "Secret number: 1\n",
      "Swapped value: A= 1 B=1\n",
      "Average of originals: 1.0\n",
      "Combined Length: 5\n",
      "Is Palindrome: True\n"
     ]
    }
   ],
   "source": [
    "code1= input(\"please enter a single word (letters only): \").lower()\n",
    "code2= input(\"please enter a single word (letters only): \").lower()\n",
    "code3= input(\"please enter a single word (letters only): \").lower()\n",
    "numA=int(input(\"please enter a single integer: \"))\n",
    "numB=int(input(\"please enter a single integer: \"))\n",
    "\n",
    "if code1.isalpha and code2.isalpha() and code3.isalpha():\n",
    "    print(\"All inputs are valid.\")\n",
    "    if numA >= 1 and numB >= 1:\n",
    "        print(\"All inputs are valid.\")\n",
    "    else:\n",
    "        print(\"Invalid numbers\")\n",
    "        exit()\n",
    "else:\n",
    "    print(\"Invalid codeword\")\n",
    "    exit()\n",
    "# 3\n",
    "combined= code1 + \"-\" + code2 + \"-\" + code3\n",
    "secret_number=(numA * numB) +numA - numB\n",
    "# print(combined)\n",
    "swapped_A,swapped_B= numB, numA\n",
    "# print(swapped_A,swapped_B)\n",
    "avg_value= (numA + numB) / 2\n",
    "message_length=len(combined)\n",
    "is_palindrome= combined == combined[::-1]\n",
    "combined2= combined.replace(\"-\", \" \")\n",
    "# print(combined2)\n",
    "\n",
    "\n",
    "#resulte\n",
    "print(\"Secret Code:\", combined)\n",
    "print(\"Secret number:\", secret_number)\n",
    "print(f\"Swapped value: A= {swapped_A} B={swapped_B}\")\n",
    "print(\"Average of originals:\", avg_value)\n",
    "print (\"Combined Length:\", message_length)\n",
    "print  (\"Is Palindrome:\", is_palindrome)\n"
   ]
  },
  {
   "cell_type": "code",
   "execution_count": 5,
   "id": "b687ab3e",
   "metadata": {},
   "outputs": [
    {
     "name": "stdout",
     "output_type": "stream",
     "text": [
      "Before swap: a = 5, b = 10\n",
      "After swap: a = 10, b = 5\n"
     ]
    }
   ],
   "source": [
    "# Initial values\n",
    "a = 5\n",
    "b = 10\n",
    "\n",
    "print(f\"Before swap: a = {a}, b = {b}\")\n",
    "\n",
    "# Swap values without a third variable\n",
    "a, b = b, a\n",
    "\n",
    "print(f\"After swap: a = {a}, b = {b}\")"
   ]
  }
 ],
 "metadata": {
  "kernelspec": {
   "display_name": "base",
   "language": "python",
   "name": "python3"
  },
  "language_info": {
   "codemirror_mode": {
    "name": "ipython",
    "version": 3
   },
   "file_extension": ".py",
   "mimetype": "text/x-python",
   "name": "python",
   "nbconvert_exporter": "python",
   "pygments_lexer": "ipython3",
   "version": "3.11.5"
  }
 },
 "nbformat": 4,
 "nbformat_minor": 5
}
